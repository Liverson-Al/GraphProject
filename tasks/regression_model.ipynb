{
  "nbformat": 4,
  "nbformat_minor": 0,
  "metadata": {
    "colab": {
      "provenance": [],
      "authorship_tag": "ABX9TyMK7ElQbbL49SO7lWkPHPWb",
      "include_colab_link": true
    },
    "kernelspec": {
      "name": "python3",
      "display_name": "Python 3"
    },
    "language_info": {
      "name": "python"
    }
  },
  "cells": [
    {
      "cell_type": "markdown",
      "metadata": {
        "id": "view-in-github",
        "colab_type": "text"
      },
      "source": [
        "<a href=\"https://colab.research.google.com/github/Liverson-Al/GraphProject/blob/main/tasks/regression_model.ipynb\" target=\"_parent\"><img src=\"https://colab.research.google.com/assets/colab-badge.svg\" alt=\"Open In Colab\"/></a>"
      ]
    },
    {
      "cell_type": "code",
      "execution_count": null,
      "metadata": {
        "id": "Ka4uCYDtXT0h"
      },
      "outputs": [],
      "source": [
        "from sklearn.model_selection import train_test_split\n",
        "from sklearn.linear_model import LogisticRegression\n",
        "from sklearn.metrics import roc_curve, auc\n",
        "import matplotlib.pyplot as plt\n",
        "\n",
        "def regression_model(X, Y):\n",
        "  x_train, x_test, y_train, y_test = train_test_split(X, Y, test_size=0.25, random_state=0)\n",
        "  lr = LogisticRegression().fit(x_train, y_train)\n",
        "  lr_proba = lr.predict_proba(x_test)\n",
        "  fpr, tpr, _ = roc_curve(y_test, lr_proba)\n",
        "  roc_auc = auc(fpr, tpr)\n",
        "  #Нарисовать plt.plot\n",
        "  #  plt.plot(fpr, tpr)\n",
        "  #  plt.plot([0,1], [0,1])\n",
        "  #  plt.xlim([0.0, 1.0])\n",
        "  #  plt.ylim([0.0, 1.05])\n",
        "  #  plt.xlabel('False Positive Rate')\n",
        "  #  plt.ylabel('True Positive Rate')\n",
        "  #  plt.title('ROC-кривая')\n",
        "\n",
        "\n",
        "#В гайде чел пишет примерно так, но у него и fpr и tpr в виде dictionary\n",
        "#plt.plot(fpr[2], tpr[2], color='darkorange', lw=lw, label='ROC curve (area = %0.2f)' % roc_auc[2])\n",
        "#plt.plot([0, 1], [0, 1], color='navy', lw=lw, linestyle='--')\n",
        "\n",
        "#Гайд: https://colab.research.google.com/drive/1aqxiXH1Av0pygzYQptI8BbCocZx56rbR#scrollTo=098ee2e8\n",
        "#Пример на \"ROC AUC кривые\""
      ]
    }
  ]
}